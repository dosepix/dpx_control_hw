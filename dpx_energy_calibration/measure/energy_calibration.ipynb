{
 "cells": [
  {
   "cell_type": "code",
   "execution_count": 1,
   "metadata": {},
   "outputs": [],
   "source": [
    "import time\n",
    "\n",
    "import numpy as np\n",
    "import matplotlib.pyplot as plt\n",
    "\n",
    "import plotly.express as px\n",
    "import plotly.graph_objects as go\n",
    "\n",
    "import dpx_control_hw as dch\n",
    "import dpx_energy_calibration"
   ]
  },
  {
   "cell_type": "code",
   "execution_count": 2,
   "metadata": {},
   "outputs": [],
   "source": [
    "MODEL_FILE = '../models/calibration_large.h5'\n",
    "PARAMETERS_FILE = '../models/parameters.json'\n",
    "CONFIG = '../../measure/config_38.conf'"
   ]
  },
  {
   "cell_type": "markdown",
   "metadata": {},
   "source": [
    "## Connect Dosepix"
   ]
  },
  {
   "cell_type": "code",
   "execution_count": 3,
   "metadata": {},
   "outputs": [],
   "source": [
    "port = dch.find_port()\n",
    "if port is None:\n",
    "    port = '/dev/ttyACM0'\n",
    "\n",
    "dpx = dch.Dosepix(\n",
    "    port_name=port,\n",
    "    config_fn=CONFIG,\n",
    "    thl_calib_fn=None,\n",
    "    params_fn=None,\n",
    "    bin_edges_fn=None\n",
    ")"
   ]
  },
  {
   "cell_type": "markdown",
   "metadata": {},
   "source": [
    "## Energy Calibration"
   ]
  },
  {
   "cell_type": "code",
   "execution_count": null,
   "metadata": {},
   "outputs": [],
   "source": [
    "dec = dpx_energy_calibration.DPXEnergyCalibration(\n",
    "    dpx,\n",
    "    MODEL_FILE,\n",
    "    PARAMETERS_FILE\n",
    ")"
   ]
  },
  {
   "cell_type": "code",
   "execution_count": 5,
   "metadata": {},
   "outputs": [],
   "source": [
    "gen = dec.measure(\n",
    "    frame_time=0.05,\n",
    "    eval_after_frames=100\n",
    ")"
   ]
  },
  {
   "cell_type": "markdown",
   "metadata": {},
   "source": [
    "## Create interactive plots"
   ]
  },
  {
   "cell_type": "markdown",
   "metadata": {},
   "source": [
    "### Distribution"
   ]
  },
  {
   "cell_type": "code",
   "execution_count": 6,
   "metadata": {},
   "outputs": [
    {
     "data": {
      "application/vnd.jupyter.widget-view+json": {
       "model_id": "285c5c141a4c4742913ae96d9a2cc81e",
       "version_major": 2,
       "version_minor": 0
      },
      "text/plain": [
       "FigureWidget({\n",
       "    'data': [{'type': 'scatter', 'uid': '5a3503f9-b024-482c-bce9-f1c3cd6594cb', 'x': [0], 'y': …"
      ]
     },
     "metadata": {},
     "output_type": "display_data"
    }
   ],
   "source": [
    "fig_hist = go.FigureWidget()\n",
    "for pixel in range(2, 14):\n",
    "    fig_hist.add_trace(\n",
    "        go.Scatter(\n",
    "            x=[0],\n",
    "            y=[0],\n",
    "        )\n",
    "    )\n",
    "fig_hist"
   ]
  },
  {
   "cell_type": "markdown",
   "metadata": {},
   "source": [
    "## Parameters"
   ]
  },
  {
   "cell_type": "code",
   "execution_count": 7,
   "metadata": {},
   "outputs": [
    {
     "data": {
      "application/vnd.jupyter.widget-view+json": {
       "model_id": "374761df3ece4371a93e6f831d167b19",
       "version_major": 2,
       "version_minor": 0
      },
      "text/plain": [
       "FigureWidget({\n",
       "    'data': [{'hovertemplate': 'variable=wide_variable_0<br>x=%{x}<br>value=%{y}<extra></extra>…"
      ]
     },
     "metadata": {},
     "output_type": "display_data"
    }
   ],
   "source": [
    "fig_params = go.FigureWidget(\n",
    "    px.scatter(\n",
    "        x=[0],\n",
    "        y=[[0]]*4\n",
    "    )\n",
    ")\n",
    "fig_params"
   ]
  },
  {
   "cell_type": "markdown",
   "metadata": {},
   "source": [
    "### Update Plots"
   ]
  },
  {
   "cell_type": "code",
   "execution_count": null,
   "metadata": {},
   "outputs": [],
   "source": [
    "readouts = 0\n",
    "params_history = []\n",
    "while True:\n",
    "    tot_x, tot_y, params_d = next(gen)\n",
    "\n",
    "    # Distribution\n",
    "    for pixel in range(16):\n",
    "        fig_hist.data[pixel]['x'] = tot_x[pixel]\n",
    "        fig_hist.data[pixel]['y'] = tot_y[pixel]\n",
    "\n",
    "    # Parameters\n",
    "    params_history.append( params_d )\n",
    "    params = np.asarray(\n",
    "        [params_history[idx]['mean'].tolist() for idx in range(len(params_history))]\n",
    "    ).T\n",
    "    params_err = np.asarray(\n",
    "        [params_history[idx]['std'].tolist() for idx in range(len(params_history))]\n",
    "    ).T\n",
    "\n",
    "    for p_idx in range(4):\n",
    "        fig_params.data[p_idx]['x'] = np.arange(readouts)\n",
    "        fig_params.data[p_idx]['y'] = params[p_idx]\n",
    "        fig_params.data[p_idx]['error_y'] = go.scatter.ErrorY(array=params_err[p_idx])\n",
    "    readouts += 1"
   ]
  },
  {
   "cell_type": "code",
   "execution_count": null,
   "metadata": {},
   "outputs": [],
   "source": [
    "for pixel in range(16):\n",
    "    fig_hist.data[pixel]['x'] = tot_x[pixel]\n",
    "    fig_hist.data[pixel]['y'] = tot_y[pixel]"
   ]
  },
  {
   "cell_type": "code",
   "execution_count": null,
   "metadata": {},
   "outputs": [
    {
     "data": {
      "image/png": "[encoded data removed]",
      "text/plain": [
       "<Figure size 432x288 with 1 Axes>"
      ]
     },
     "metadata": {
      "needs_background": "light"
     },
     "output_type": "display_data"
    }
   ],
   "source": [
    "for p_idx in range(4):\n",
    "    plt.plot( np.diff(params[p_idx]) )"
   ]
  },
  {
   "cell_type": "code",
   "execution_count": null,
   "metadata": {},
   "outputs": [],
   "source": []
  }
 ],
 "metadata": {
  "interpreter": {
   "hash": "916dbcbb3f70747c44a77c7bcd40155683ae19c65e1c03b4aa3499c5328201f1"
  },
  "kernelspec": {
   "display_name": "Python 3.9.7 64-bit",
   "language": "python",
   "name": "python3"
  },
  "language_info": {
   "codemirror_mode": {
    "name": "ipython",
    "version": 3
   },
   "file_extension": ".py",
   "mimetype": "text/x-python",
   "name": "python",
   "nbconvert_exporter": "python",
   "pygments_lexer": "ipython3",
   "version": "3.9.7"
  },
  "orig_nbformat": 4
 },
 "nbformat": 4,
 "nbformat_minor": 2
}
