{
 "cells": [
  {
   "cell_type": "code",
   "execution_count": 1,
   "id": "b32e2d80-6728-433d-b4fe-67fa4f08bea3",
   "metadata": {},
   "outputs": [],
   "source": [
    "from jupyter_dash import JupyterDash\n",
    "from dash import dcc, html\n",
    "from dash.dependencies import Input, Output\n",
    "import plotly.subplots\n",
    "\n",
    "import numpy as np\n",
    "import matplotlib.pyplot as plt\n",
    "import dpx_control_hw as dch"
   ]
  },
  {
   "cell_type": "markdown",
   "id": "b685572f-e352-48dd-9150-aa134aeaa654",
   "metadata": {},
   "source": [
    "## Settings"
   ]
  },
  {
   "cell_type": "code",
   "execution_count": 2,
   "id": "c27e885d-699a-4f8e-af48-e9807aa3a97d",
   "metadata": {},
   "outputs": [],
   "source": [
    "CONFIG = '../config.conf'"
   ]
  },
  {
   "cell_type": "markdown",
   "id": "e1c79e5e-10cd-4197-9cd7-7ec488217dc8",
   "metadata": {},
   "source": [
    "## Find port and connect"
   ]
  },
  {
   "cell_type": "code",
   "execution_count": 3,
   "id": "a6dd435e-be6f-4a4c-b521-63ad37b31960",
   "metadata": {},
   "outputs": [],
   "source": [
    "port = dch.find_port()\n",
    "if port is None:\n",
    "    port = '/dev/ttyACM0'\n",
    "\n",
    "dpx = dch.Dosepix(\n",
    "    port_name=port,\n",
    "    config_fn=CONFIG,\n",
    "    thl_calib_fn=None,\n",
    "    params_fn=None,\n",
    "    bin_edges_fn=None\n",
    ")"
   ]
  },
  {
   "cell_type": "code",
   "execution_count": null,
   "id": "2264781e-271a-4854-80fe-f54c096de5e0",
   "metadata": {},
   "outputs": [],
   "source": []
  }
 ],
 "metadata": {
  "kernelspec": {
   "display_name": "Python 3 (ipykernel)",
   "language": "python",
   "name": "python3"
  },
  "language_info": {
   "codemirror_mode": {
    "name": "ipython",
    "version": 3
   },
   "file_extension": ".py",
   "mimetype": "text/x-python",
   "name": "python",
   "nbconvert_exporter": "python",
   "pygments_lexer": "ipython3",
   "version": "3.9.7"
  }
 },
 "nbformat": 4,
 "nbformat_minor": 5
}
