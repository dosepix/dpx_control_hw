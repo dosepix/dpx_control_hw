{
 "cells": [
  {
   "cell_type": "code",
   "execution_count": 1,
   "id": "b32e2d80-6728-433d-b4fe-67fa4f08bea3",
   "metadata": {},
   "outputs": [],
   "source": [
    "import time\n",
    "\n",
    "from jupyter_dash import JupyterDash\n",
    "from dash import dcc, html\n",
    "from dash.dependencies import Input, Output\n",
    "import plotly.subplots\n",
    "\n",
    "import numpy as np\n",
    "import matplotlib.pyplot as plt\n",
    "import dpx_control_hw as dch"
   ]
  },
  {
   "cell_type": "markdown",
   "id": "b685572f-e352-48dd-9150-aa134aeaa654",
   "metadata": {},
   "source": [
    "## Settings"
   ]
  },
  {
   "cell_type": "code",
   "execution_count": 2,
   "id": "c27e885d-699a-4f8e-af48-e9807aa3a97d",
   "metadata": {},
   "outputs": [],
   "source": [
    "CONFIG = '../config.conf'"
   ]
  },
  {
   "cell_type": "markdown",
   "id": "e1c79e5e-10cd-4197-9cd7-7ec488217dc8",
   "metadata": {},
   "source": [
    "## Find port and connect"
   ]
  },
  {
   "cell_type": "code",
   "execution_count": 3,
   "id": "a6dd435e-be6f-4a4c-b521-63ad37b31960",
   "metadata": {},
   "outputs": [],
   "source": [
    "port = dch.find_port()\n",
    "if port is None:\n",
    "    port = '/dev/ttyACM0'\n",
    "\n",
    "dpx = dch.Dosepix(\n",
    "    port_name=port,\n",
    "    config_fn=CONFIG,\n",
    "    thl_calib_fn=None,\n",
    "    params_fn=None,\n",
    "    bin_edges_fn=None\n",
    ")"
   ]
  },
  {
   "cell_type": "code",
   "execution_count": 4,
   "id": "24451226-0375-430e-8f3c-9bc7633f6e09",
   "metadata": {},
   "outputs": [
    {
     "name": "stdout",
     "output_type": "stream",
     "text": [
      "OMR set to: 381fc0\n"
     ]
    }
   ],
   "source": [
    "dpx.dpm.select_adc(analog_out='v_tha')"
   ]
  },
  {
   "cell_type": "code",
   "execution_count": 5,
   "id": "2264781e-271a-4854-80fe-f54c096de5e0",
   "metadata": {},
   "outputs": [],
   "source": [
    "app = JupyterDash(__name__, update_title=None)\n",
    "app.layout = html.Div(\n",
    "    [\n",
    "        dcc.Graph(id='live-update-graph'),\n",
    "        dcc.Interval(\n",
    "            id=\"interval\",\n",
    "            interval=100,\n",
    "            n_intervals=0\n",
    "        )\n",
    "    ]\n",
    ")\n",
    "\n",
    "start_time = time.time()\n",
    "data = {'time': [], 'bias': [], 'dpx': []}\n",
    "\n",
    "# Update plot\n",
    "@app.callback(Output('live-update-graph', 'figure'),\n",
    "[Input('interval', 'n_intervals')])\n",
    "def update_data(n):\n",
    "    try:\n",
    "        data['bias'].append( int(dpx.dpf.read_bias(), 16) )\n",
    "        data['dpx'].append( int(dpx.dpf.read_adc(), 16) )\n",
    "        data['time'].append( time.time() - start_time )\n",
    "    except ValueError:\n",
    "        pass\n",
    "\n",
    "    fig = plotly.subplots.make_subplots(2, 1, vertical_spacing=0.1)\n",
    "    fig['layout']['margin'] = {\n",
    "        'l': 30, 'r': 10, 'b': 30, 't': 10\n",
    "    }\n",
    "    fig['layout']['legend'] = {'x': 0, 'y': 1, 'xanchor': 'left'}\n",
    "\n",
    "    fig.append_trace({\n",
    "        'x': data['time'],\n",
    "        'y': data['dpx'],\n",
    "        'name': 'DPX ADC',\n",
    "        'mode': 'lines+markers',\n",
    "        'type': 'scatter'\n",
    "    }, 1, 1)\n",
    "    fig.append_trace({\n",
    "        'x': data['time'],\n",
    "        'y': data['bias'],\n",
    "        'name': 'Bias Voltage',\n",
    "        'mode': 'lines+markers',\n",
    "        'type': 'scatter'\n",
    "    }, 2, 1)\n",
    "    return fig"
   ]
  },
  {
   "cell_type": "markdown",
   "id": "2c04a4a7-d989-4e56-886d-a349073f52ab",
   "metadata": {},
   "source": [
    "## Run server"
   ]
  },
  {
   "cell_type": "code",
   "execution_count": 6,
   "id": "253e8034-9d83-4e78-897c-3859fbc19afa",
   "metadata": {},
   "outputs": [
    {
     "data": {
      "text/html": [
       "\n",
       "        <iframe\n",
       "            width=\"100%\"\n",
       "            height=\"650\"\n",
       "            src=\"http://127.0.0.1:8050/\"\n",
       "            frameborder=\"0\"\n",
       "            allowfullscreen\n",
       "            \n",
       "        ></iframe>\n",
       "        "
      ],
      "text/plain": [
       "<IPython.lib.display.IFrame at 0x7fa9cd340b20>"
      ]
     },
     "metadata": {},
     "output_type": "display_data"
    }
   ],
   "source": [
    "app.run_server(debug=True, mode='inline')"
   ]
  },
  {
   "cell_type": "code",
   "execution_count": null,
   "id": "bd61e66b-7cd7-4fe7-884c-c73c6591d4a5",
   "metadata": {},
   "outputs": [],
   "source": []
  }
 ],
 "metadata": {
  "kernelspec": {
   "display_name": "Python 3 (ipykernel)",
   "language": "python",
   "name": "python3"
  },
  "language_info": {
   "codemirror_mode": {
    "name": "ipython",
    "version": 3
   },
   "file_extension": ".py",
   "mimetype": "text/x-python",
   "name": "python",
   "nbconvert_exporter": "python",
   "pygments_lexer": "ipython3",
   "version": "3.9.7"
  }
 },
 "nbformat": 4,
 "nbformat_minor": 5
}
