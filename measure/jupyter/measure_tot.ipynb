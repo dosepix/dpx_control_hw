{
 "cells": [
  {
   "cell_type": "code",
   "execution_count": 1,
   "id": "09a5245d-f32a-4a7b-9322-6fa2238ca0ec",
   "metadata": {},
   "outputs": [],
   "source": [
    "from jupyter_dash import JupyterDash\n",
    "from dash import dcc, html\n",
    "from dash.dependencies import Input, Output\n",
    "import plotly.subplots\n",
    "\n",
    "import numpy as np\n",
    "import matplotlib.pyplot as plt\n",
    "import dpx_control_hw as dch"
   ]
  },
  {
   "cell_type": "markdown",
   "id": "fb4a7853-c1b1-40ff-99d2-2b6d5d5ea477",
   "metadata": {},
   "source": [
    "## Settings"
   ]
  },
  {
   "cell_type": "code",
   "execution_count": 2,
   "id": "749ce0b1-6cc6-4c8a-b9dc-52b58fea6e22",
   "metadata": {},
   "outputs": [],
   "source": [
    "CONFIG = '../config.conf'"
   ]
  },
  {
   "cell_type": "markdown",
   "id": "f355e1a9-9dc4-4917-8a5c-31c2d826dab9",
   "metadata": {},
   "source": [
    "## Find port and connect"
   ]
  },
  {
   "cell_type": "code",
   "execution_count": 3,
   "id": "8f24cfa6-2c8e-4a65-8ede-ad6c2358c04a",
   "metadata": {},
   "outputs": [],
   "source": [
    "port = dch.find_port()\n",
    "if port is None:\n",
    "    port = '/dev/ttyACM0'\n",
    "\n",
    "dpx = dch.Dosepix(\n",
    "    port_name=port,\n",
    "    config_fn=CONFIG,\n",
    "    thl_calib_fn=None,\n",
    "    params_fn=None,\n",
    "    bin_edges_fn=None\n",
    ")"
   ]
  },
  {
   "cell_type": "markdown",
   "id": "541b8c51-8005-46a1-8f08-e93dc3d13638",
   "metadata": {},
   "source": [
    "## ToT-measurement generator"
   ]
  },
  {
   "cell_type": "code",
   "execution_count": 10,
   "id": "e87acad0-b5a0-44b0-ac5d-bc3940d88cd6",
   "metadata": {},
   "outputs": [
    {
     "name": "stderr",
     "output_type": "stream",
     "text": [
      "Exception ignored in: <generator object DPXMeasurement.measure_tot_gen at 0x7f69a043a190>\n",
      "Traceback (most recent call last):\n",
      "  File \"/tmp/ipykernel_1821875/4284844403.py\", line 1, in <cell line: 1>\n",
      "RuntimeError: generator ignored GeneratorExit\n"
     ]
    },
    {
     "name": "stdout",
     "output_type": "stream",
     "text": [
      "Starting ToT Measurement!\n",
      "=========================\n"
     ]
    },
    {
     "name": "stderr",
     "output_type": "stream",
     "text": [
      "Exception ignored in: <generator object DPXMeasurement.measure_tot_gen at 0x7f69a043a0b0>\n",
      "Traceback (most recent call last):\n",
      "  File \"/home/solvalou/Documents/dosimetry/dpx_control_hw_venv/lib/python3.9/site-packages/IPython/core/interactiveshell.py\", line 1348, in reset\n",
      "    del ns[k]\n",
      "RuntimeError: generator ignored GeneratorExit\n"
     ]
    }
   ],
   "source": [
    "tot_gen = dpx.dpm.measure_tot(\n",
    "    frame_time=0,\n",
    "    save_frames=None,\n",
    "    out_dir=None,\n",
    "    meas_time=None,\n",
    "    make_hist=True,\n",
    "    use_gui=True\n",
    ")"
   ]
  },
  {
   "cell_type": "markdown",
   "id": "38348c34-e53f-4a43-8615-cf3dfd6cea76",
   "metadata": {},
   "source": [
    "## Create dash-app"
   ]
  },
  {
   "cell_type": "code",
   "execution_count": 6,
   "id": "23b43569-af36-4d2b-9564-f2fd40df43f6",
   "metadata": {},
   "outputs": [],
   "source": [
    "app = JupyterDash(__name__, update_title=None)\n",
    "app.layout = html.Div(\n",
    "    [\n",
    "        dcc.Graph(id='live-update-graph'),\n",
    "        dcc.Interval(\n",
    "            id=\"interval\",\n",
    "            interval=100,\n",
    "            n_intervals=0\n",
    "        ),\n",
    "        html.Div(children=[\n",
    "            html.Label('ToT-range'),\n",
    "            dcc.Slider(\n",
    "                id='tot_slider',\n",
    "                min=0,\n",
    "                max=800,\n",
    "                value=400\n",
    "            )\n",
    "        ])\n",
    "    ]\n",
    ")\n",
    "\n",
    "plt_data = {'bins': np.arange(4095), 'hist': np.zeros(4095)}\n",
    "\n",
    "@app.callback(\n",
    "    Output('live-update-graph', 'figure'),\n",
    "    [Input('interval', 'n_intervals')],\n",
    "    Input('tot_slider', 'value')\n",
    ")\n",
    "def update_data(n, tot_slider_value):\n",
    "    try:\n",
    "        plt_data['hist'] = np.sum(next(tot_gen), axis=0)\n",
    "    except ValueError:\n",
    "        pass\n",
    "        \n",
    "    fig = plotly.subplots.make_subplots(vertical_spacing=0.2)\n",
    "    fig['layout']['margin'] = {\n",
    "        'l': 30, 'r': 10, 'b': 30, 't': 10\n",
    "    }\n",
    "    fig['layout']['legend'] = {'x': 0, 'y': 1, 'xanchor': 'left'}\n",
    "\n",
    "    fig.append_trace({\n",
    "        'x': plt_data['bins'][:tot_slider_value],\n",
    "        'y': plt_data['hist'][:tot_slider_value],\n",
    "        'name': 'Bias Voltage',\n",
    "        'mode': 'lines+markers',\n",
    "        'type': 'scatter'\n",
    "    }, 1, 1)\n",
    "    return fig"
   ]
  },
  {
   "cell_type": "markdown",
   "id": "1790a206-f834-48e4-aa69-72f9798378e8",
   "metadata": {},
   "source": [
    "## Run server"
   ]
  },
  {
   "cell_type": "code",
   "execution_count": 7,
   "id": "e6b3aa75-6519-496e-8382-7a8532d21a09",
   "metadata": {},
   "outputs": [
    {
     "name": "stdout",
     "output_type": "stream",
     "text": [
      "Dash app running on http://127.0.0.1:8050/\n",
      "Starting ToT Measurement!\n",
      "=========================\n"
     ]
    }
   ],
   "source": [
    "app.run_server(debug=True, mode='external')"
   ]
  },
  {
   "cell_type": "code",
   "execution_count": 11,
   "id": "e795c6fc-3c15-4b6f-ba0b-a781f101bafe",
   "metadata": {},
   "outputs": [
    {
     "ename": "AttributeError",
     "evalue": "'JupyterDash' object has no attribute '_terminate_server_for_port'",
     "output_type": "error",
     "traceback": [
      "\u001b[0;31m---------------------------------------------------------------------------\u001b[0m",
      "\u001b[0;31mAttributeError\u001b[0m                            Traceback (most recent call last)",
      "Input \u001b[0;32mIn [11]\u001b[0m, in \u001b[0;36m<cell line: 1>\u001b[0;34m()\u001b[0m\n\u001b[0;32m----> 1\u001b[0m \u001b[43mapp\u001b[49m\u001b[38;5;241;43m.\u001b[39;49m\u001b[43m_terminate_server_for_port\u001b[49m(\u001b[38;5;124m\"\u001b[39m\u001b[38;5;124mlocalhost\u001b[39m\u001b[38;5;124m\"\u001b[39m, \u001b[38;5;241m8050\u001b[39m)\n",
      "\u001b[0;31mAttributeError\u001b[0m: 'JupyterDash' object has no attribute '_terminate_server_for_port'"
     ]
    }
   ],
   "source": [
    "app._terminate_server_for_port(\"localhost\", 8050)"
   ]
  },
  {
   "cell_type": "code",
   "execution_count": null,
   "id": "4618a949-6ab2-4a8d-b122-288d0e2900a9",
   "metadata": {},
   "outputs": [],
   "source": []
  }
 ],
 "metadata": {
  "kernelspec": {
   "display_name": "Python 3 (ipykernel)",
   "language": "python",
   "name": "python3"
  },
  "language_info": {
   "codemirror_mode": {
    "name": "ipython",
    "version": 3
   },
   "file_extension": ".py",
   "mimetype": "text/x-python",
   "name": "python",
   "nbconvert_exporter": "python",
   "pygments_lexer": "ipython3",
   "version": "3.9.7"
  }
 },
 "nbformat": 4,
 "nbformat_minor": 5
}
