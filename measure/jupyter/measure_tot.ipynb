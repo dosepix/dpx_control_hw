{
 "cells": [
  {
   "cell_type": "code",
   "execution_count": 1,
   "id": "09a5245d-f32a-4a7b-9322-6fa2238ca0ec",
   "metadata": {},
   "outputs": [],
   "source": [
    "from jupyter_dash import JupyterDash\n",
    "from dash import dcc, html\n",
    "from dash.dependencies import Input, Output\n",
    "import plotly.subplots\n",
    "\n",
    "import numpy as np\n",
    "import matplotlib.pyplot as plt\n",
    "import dpx_control_hw as dch"
   ]
  },
  {
   "cell_type": "markdown",
   "id": "fb4a7853-c1b1-40ff-99d2-2b6d5d5ea477",
   "metadata": {},
   "source": [
    "## Settings"
   ]
  },
  {
   "cell_type": "code",
   "execution_count": 2,
   "id": "749ce0b1-6cc6-4c8a-b9dc-52b58fea6e22",
   "metadata": {},
   "outputs": [],
   "source": [
    "CONFIG = '../config.conf'"
   ]
  },
  {
   "cell_type": "markdown",
   "id": "f355e1a9-9dc4-4917-8a5c-31c2d826dab9",
   "metadata": {},
   "source": [
    "## Find port automatically"
   ]
  },
  {
   "cell_type": "code",
   "execution_count": 3,
   "id": "8f24cfa6-2c8e-4a65-8ede-ad6c2358c04a",
   "metadata": {},
   "outputs": [],
   "source": [
    "port = dch.find_port()\n",
    "if port is None:\n",
    "    port = '/dev/ttyACM0'"
   ]
  },
  {
   "cell_type": "markdown",
   "id": "15072126-188c-437d-ad76-b7cc529b2e88",
   "metadata": {},
   "source": [
    "## Connect DPX"
   ]
  },
  {
   "cell_type": "code",
   "execution_count": 4,
   "id": "cf50dd83-f024-4578-b7f4-ddebf70cb4cc",
   "metadata": {},
   "outputs": [],
   "source": [
    "dpx = dch.Dosepix(\n",
    "    port_name=port,\n",
    "    config_fn=CONFIG,\n",
    "    thl_calib_fn=None,\n",
    "    params_fn=None,\n",
    "    bin_edges_fn=None\n",
    ")"
   ]
  },
  {
   "cell_type": "markdown",
   "id": "541b8c51-8005-46a1-8f08-e93dc3d13638",
   "metadata": {},
   "source": [
    "## Create ToT-measurement generator"
   ]
  },
  {
   "cell_type": "code",
   "execution_count": 5,
   "id": "e87acad0-b5a0-44b0-ac5d-bc3940d88cd6",
   "metadata": {},
   "outputs": [],
   "source": [
    "tot_gen = dpx.dpm.measure_tot(\n",
    "    frame_time=0,\n",
    "    save_frames=None,\n",
    "    out_dir=None,\n",
    "    meas_time=None,\n",
    "    make_hist=True,\n",
    "    use_gui=True\n",
    ")"
   ]
  },
  {
   "cell_type": "markdown",
   "id": "38348c34-e53f-4a43-8615-cf3dfd6cea76",
   "metadata": {},
   "source": [
    "## Create dash-app"
   ]
  },
  {
   "cell_type": "code",
   "execution_count": 6,
   "id": "23b43569-af36-4d2b-9564-f2fd40df43f6",
   "metadata": {},
   "outputs": [],
   "source": [
    "app = JupyterDash(__name__, update_title=None)\n",
    "app.layout = html.Div(\n",
    "    [\n",
    "        dcc.Graph(id='live-update-graph'),\n",
    "        dcc.Interval(\n",
    "            id=\"interval\",\n",
    "            interval=100,\n",
    "            n_intervals=0\n",
    "        ),\n",
    "        html.Div(children=[\n",
    "            html.Label('ToT-range'),\n",
    "            dcc.Slider(\n",
    "                id='tot_slider',\n",
    "                min=0,\n",
    "                max=800,\n",
    "                value=400\n",
    "            )\n",
    "        ])\n",
    "    ]\n",
    ")\n",
    "\n",
    "plt_data = {'bins': np.arange(4095), 'hist': np.zeros(4095)}\n",
    "\n",
    "@app.callback(\n",
    "    Output('live-update-graph', 'figure'),\n",
    "    [Input('interval', 'n_intervals')],\n",
    "    Input('tot_slider', 'value')\n",
    ")\n",
    "def update_data(n, tot_slider_value):\n",
    "    try:\n",
    "        plt_data['hist'] = np.sum(next(tot_gen), axis=0)\n",
    "    except ValueError:\n",
    "        pass\n",
    "        \n",
    "    fig = plotly.subplots.make_subplots(vertical_spacing=0.2)\n",
    "    fig['layout']['margin'] = {\n",
    "        'l': 30, 'r': 10, 'b': 30, 't': 10\n",
    "    }\n",
    "    fig['layout']['legend'] = {'x': 0, 'y': 1, 'xanchor': 'left'}\n",
    "\n",
    "    fig.append_trace({\n",
    "        'x': plt_data['bins'][:tot_slider_value],\n",
    "        'y': plt_data['hist'][:tot_slider_value],\n",
    "        'name': 'Bias Voltage',\n",
    "        'mode': 'lines+markers',\n",
    "        'type': 'scatter'\n",
    "    }, 1, 1)\n",
    "    return fig"
   ]
  },
  {
   "cell_type": "markdown",
   "id": "1790a206-f834-48e4-aa69-72f9798378e8",
   "metadata": {},
   "source": [
    "## Run server"
   ]
  },
  {
   "cell_type": "code",
   "execution_count": 8,
   "id": "e6b3aa75-6519-496e-8382-7a8532d21a09",
   "metadata": {},
   "outputs": [],
   "source": [
    "app.run_server(debug=True, mode='jupyterlab')"
   ]
  },
  {
   "cell_type": "code",
   "execution_count": null,
   "id": "e795c6fc-3c15-4b6f-ba0b-a781f101bafe",
   "metadata": {},
   "outputs": [],
   "source": []
  }
 ],
 "metadata": {
  "kernelspec": {
   "display_name": "Python 3 (ipykernel)",
   "language": "python",
   "name": "python3"
  },
  "language_info": {
   "codemirror_mode": {
    "name": "ipython",
    "version": 3
   },
   "file_extension": ".py",
   "mimetype": "text/x-python",
   "name": "python",
   "nbconvert_exporter": "python",
   "pygments_lexer": "ipython3",
   "version": "3.9.7"
  }
 },
 "nbformat": 4,
 "nbformat_minor": 5
}
