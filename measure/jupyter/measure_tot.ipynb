{
 "cells": [
  {
   "cell_type": "code",
   "execution_count": 1,
   "id": "09a5245d-f32a-4a7b-9322-6fa2238ca0ec",
   "metadata": {},
   "outputs": [],
   "source": [
    "import time\n",
    "\n",
    "from jupyter_dash import JupyterDash\n",
    "from dash import dcc, html\n",
    "from dash.dependencies import Input, Output\n",
    "import plotly.subplots\n",
    "\n",
    "import numpy as np\n",
    "import matplotlib.pyplot as plt\n",
    "import dpx_control_hw as dch"
   ]
  },
  {
   "cell_type": "code",
   "execution_count": 2,
   "id": "b0ea314c-b862-4ed9-a938-4c0bcb872ec9",
   "metadata": {},
   "outputs": [],
   "source": [
    "def get_color(c, N, idx):\n",
    "    import matplotlib as mpl\n",
    "    cmap = mpl.cm.get_cmap(c)\n",
    "    norm = mpl.colors.Normalize(vmin=0.0, vmax=N - 1)\n",
    "    return cmap(norm(idx))"
   ]
  },
  {
   "cell_type": "markdown",
   "id": "fb4a7853-c1b1-40ff-99d2-2b6d5d5ea477",
   "metadata": {},
   "source": [
    "## Settings"
   ]
  },
  {
   "cell_type": "code",
   "execution_count": 3,
   "id": "749ce0b1-6cc6-4c8a-b9dc-52b58fea6e22",
   "metadata": {},
   "outputs": [],
   "source": [
    "CONFIG = '../config.conf'"
   ]
  },
  {
   "cell_type": "markdown",
   "id": "f355e1a9-9dc4-4917-8a5c-31c2d826dab9",
   "metadata": {},
   "source": [
    "## Find port and connect"
   ]
  },
  {
   "cell_type": "code",
   "execution_count": 4,
   "id": "8f24cfa6-2c8e-4a65-8ede-ad6c2358c04a",
   "metadata": {},
   "outputs": [],
   "source": [
    "port = dch.find_port()\n",
    "if port is None:\n",
    "    port = '/dev/ttyACM0'\n",
    "\n",
    "dpx = dch.Dosepix(\n",
    "    port_name=port,\n",
    "    config_fn=CONFIG,\n",
    "    thl_calib_fn=None,\n",
    "    params_fn=None,\n",
    "    bin_edges_fn=None\n",
    ")"
   ]
  },
  {
   "cell_type": "markdown",
   "id": "541b8c51-8005-46a1-8f08-e93dc3d13638",
   "metadata": {},
   "source": [
    "## ToT-measurement generator"
   ]
  },
  {
   "cell_type": "code",
   "execution_count": 5,
   "id": "e87acad0-b5a0-44b0-ac5d-bc3940d88cd6",
   "metadata": {},
   "outputs": [],
   "source": [
    "tot_gen = dpx.dpm.measure_tot(\n",
    "    frame_time=0,\n",
    "    save_frames=None,\n",
    "    out_dir=None,\n",
    "    meas_time=None,\n",
    "    make_hist=True,\n",
    "    use_gui=True\n",
    ")"
   ]
  },
  {
   "cell_type": "markdown",
   "id": "38348c34-e53f-4a43-8615-cf3dfd6cea76",
   "metadata": {},
   "source": [
    "## Create dash-app"
   ]
  },
  {
   "cell_type": "code",
   "execution_count": 6,
   "id": "51dffe50-fbe6-4117-bc24-8904c55a5199",
   "metadata": {},
   "outputs": [],
   "source": [
    "CUMULATIVE = True\n",
    "NORM = True\n",
    "READ_ADC = False"
   ]
  },
  {
   "cell_type": "code",
   "execution_count": 7,
   "id": "23b43569-af36-4d2b-9564-f2fd40df43f6",
   "metadata": {},
   "outputs": [],
   "source": [
    "interval = 100\n",
    "update_interval = 15 # in seconds\n",
    "start_time = time.time()\n",
    "global last_time\n",
    "last_time = time.time()\n",
    "meas_times = []\n",
    "\n",
    "if CUMULATIVE:\n",
    "    plt_data = []\n",
    "else:\n",
    "    plt_data = {'bins': np.arange(4095), 'hist': np.zeros(4095)}\n",
    "\n",
    "if READ_ADC:\n",
    "    dpx.dpm.select_adc(analog_out='v_tha')\n",
    "    adc_data = {'time': [], 'bias': [], 'dpx': []}\n",
    "\n",
    "app = JupyterDash(__name__, update_title=None)\n",
    "app.layout = html.Div(\n",
    "    [\n",
    "        dcc.Graph(id='live-update-graph', style={'height': '90vh'}),\n",
    "        dcc.Interval(\n",
    "            id=\"interval\",\n",
    "            interval=interval,\n",
    "            n_intervals=0\n",
    "        ),\n",
    "        html.Div(children=[\n",
    "            html.Label('ToT-range'),\n",
    "            dcc.Slider(\n",
    "                id='tot_slider',\n",
    "                min=0,\n",
    "                max=800,\n",
    "                value=400\n",
    "            )\n",
    "        ])\n",
    "    ]\n",
    ")\n",
    "\n",
    "@app.callback(\n",
    "    Output('live-update-graph', 'figure'),\n",
    "    [Input('interval', 'n_intervals')],\n",
    "    Input('tot_slider', 'value')\n",
    ")\n",
    "def update_data(n, tot_slider_value):\n",
    "    global last_time\n",
    "    if CUMULATIVE:\n",
    "        # if not (int(start_time - time.time()) % update_interval):\n",
    "        if (time.time() - last_time) > update_interval:\n",
    "            try:\n",
    "                plt_data.append({\n",
    "                    'bins': np.arange(4095),\n",
    "                    'hist': np.sum(next(tot_gen), axis=0)\n",
    "                })\n",
    "                dpx.dpf.data_reset()\n",
    "                meas_times.append( int(time.time() - start_time) )\n",
    "            except ValueError:\n",
    "                pass\n",
    "            last_time = time.time()\n",
    "        else:\n",
    "            # Update measurement nevertheless\n",
    "            try:\n",
    "                next(tot_gen)\n",
    "            except:\n",
    "                pass\n",
    "    else:\n",
    "        try:\n",
    "            plt_data['hist'] = np.sum(next(tot_gen), axis=0)\n",
    "        except ValueError:\n",
    "            pass\n",
    "        \n",
    "    if READ_ADC:\n",
    "        try:\n",
    "            adc_data['bias'].append( int(dpx.dpf.read_bias(), 16) )\n",
    "            adc_data['dpx'].append( int(dpx.dpf.read_adc(), 16) )\n",
    "            adc_data['time'].append( time.time() - start_time )\n",
    "        except ValueError:\n",
    "            pass\n",
    "\n",
    "    if READ_ADC:\n",
    "        fig = plotly.subplots.make_subplots(3, 1, vertical_spacing=0.05)\n",
    "    else:\n",
    "        fig = plotly.subplots.make_subplots(vertical_spacing=0.2)\n",
    "    fig['layout']['margin'] = {\n",
    "        'l': 10, 'r': 10, 'b': 30, 't': 10\n",
    "    }\n",
    "    fig['layout']['legend'] = {'x': 0, 'y': 1, 'xanchor': 'left'}\n",
    "\n",
    "    if CUMULATIVE:\n",
    "        for idx, trace in enumerate(plt_data):\n",
    "            color = get_color('viridis', len(plt_data), idx)\n",
    "            color = '#' + ''.join(['%02x' % (int(color_elm * 256) - 1) for color_elm in color[:-1]])\n",
    "\n",
    "            y = trace['hist'][:tot_slider_value]\n",
    "            if NORM:\n",
    "                y = y / np.max(trace['hist'][:tot_slider_value])\n",
    "            fig.add_trace({\n",
    "                'x': trace['bins'][:tot_slider_value],\n",
    "                'y': y,\n",
    "                'name': '%d s' % meas_times[idx],\n",
    "                'mode': 'lines+markers',\n",
    "                'type': 'scatter',\n",
    "                'line': dict(color=color)\n",
    "            }, 1, 1)\n",
    "    else:\n",
    "        fig.add_trace({\n",
    "            'x': plt_data['bins'][:tot_slider_value],\n",
    "            'y': plt_data['hist'][:tot_slider_value],\n",
    "            'name': 'ToT',\n",
    "            'mode': 'lines+markers',\n",
    "            'type': 'scatter'\n",
    "        }, 1, 1)\n",
    "        \n",
    "    if READ_ADC:\n",
    "        fig.add_trace({\n",
    "            'x': adc_data['time'],\n",
    "            'y': adc_data['dpx'],\n",
    "            'name': 'DPX ADC',\n",
    "            'mode': 'lines+markers',\n",
    "            'type': 'scatter',\n",
    "            'line': dict(color='red')\n",
    "        }, 2, 1)\n",
    "        fig.add_trace({\n",
    "            'x': adc_data['time'],\n",
    "            'y': adc_data['bias'],\n",
    "            'name': 'Bias Voltage',\n",
    "            'mode': 'lines+markers',\n",
    "            'type': 'scatter',\n",
    "            'line': dict(color='blue')\n",
    "        }, 3, 1)\n",
    "\n",
    "    return fig"
   ]
  },
  {
   "cell_type": "markdown",
   "id": "1790a206-f834-48e4-aa69-72f9798378e8",
   "metadata": {},
   "source": [
    "## Run server"
   ]
  },
  {
   "cell_type": "code",
   "execution_count": 8,
   "id": "e6b3aa75-6519-496e-8382-7a8532d21a09",
   "metadata": {},
   "outputs": [
    {
     "name": "stdout",
     "output_type": "stream",
     "text": [
      "Dash app running on http://127.0.0.1:8050/\n"
     ]
    }
   ],
   "source": [
    "app.run_server(debug=True, mode='external')"
   ]
  },
  {
   "cell_type": "markdown",
   "id": "ce89d2d4-96f4-4890-9119-24e03fe7c65c",
   "metadata": {},
   "source": [
    "## Store to file"
   ]
  },
  {
   "cell_type": "code",
   "execution_count": 9,
   "id": "ecf16756-4f5e-4af1-8ada-bf60ba785c9f",
   "metadata": {},
   "outputs": [
    {
     "name": "stdout",
     "output_type": "stream",
     "text": [
      "Starting ToT Measurement!\n",
      "=========================\n"
     ]
    }
   ],
   "source": [
    "import json\n",
    "\n",
    "class NumpyEncoder(json.JSONEncoder):\n",
    "    def default(self, obj):\n",
    "        if isinstance(obj, np.ndarray):\n",
    "            return obj.tolist()\n",
    "        return json.JSONEncoder.default(self, obj)\n",
    "\n",
    "with open('meas.json', 'w') as file:\n",
    "    json.dump({'plt_data': plt_data, 'meas_times': meas_times}, file, cls=NumpyEncoder)"
   ]
  },
  {
   "cell_type": "code",
   "execution_count": null,
   "id": "6ac8ac74-3ec5-414d-a741-ec757da88fe6",
   "metadata": {},
   "outputs": [],
   "source": []
  }
 ],
 "metadata": {
  "kernelspec": {
   "display_name": "Python 3 (ipykernel)",
   "language": "python",
   "name": "python3"
  },
  "language_info": {
   "codemirror_mode": {
    "name": "ipython",
    "version": 3
   },
   "file_extension": ".py",
   "mimetype": "text/x-python",
   "name": "python",
   "nbconvert_exporter": "python",
   "pygments_lexer": "ipython3",
   "version": "3.9.7"
  }
 },
 "nbformat": 4,
 "nbformat_minor": 5
}
